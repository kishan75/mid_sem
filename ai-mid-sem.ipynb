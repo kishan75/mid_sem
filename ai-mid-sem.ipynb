{
 "cells": [
  {
   "cell_type": "markdown",
   "id": "980686b9",
   "metadata": {
    "papermill": {
     "duration": 0.016864,
     "end_time": "2022-02-21T17:46:01.941619",
     "exception": false,
     "start_time": "2022-02-21T17:46:01.924755",
     "status": "completed"
    },
    "tags": []
   },
   "source": [
    "# Data generation"
   ]
  },
  {
   "cell_type": "code",
   "execution_count": 1,
   "id": "8cdd1894",
   "metadata": {
    "_cell_guid": "b1076dfc-b9ad-4769-8c92-a6c4dae69d19",
    "_uuid": "8f2839f25d086af736a60e9eeb907d3b93b6e0e5",
    "execution": {
     "iopub.execute_input": "2022-02-21T17:46:01.990464Z",
     "iopub.status.busy": "2022-02-21T17:46:01.989611Z",
     "iopub.status.idle": "2022-02-21T17:46:03.221327Z",
     "shell.execute_reply": "2022-02-21T17:46:03.222041Z",
     "shell.execute_reply.started": "2022-02-21T17:42:50.212153Z"
    },
    "papermill": {
     "duration": 1.265634,
     "end_time": "2022-02-21T17:46:03.222451",
     "exception": false,
     "start_time": "2022-02-21T17:46:01.956817",
     "status": "completed"
    },
    "tags": []
   },
   "outputs": [
    {
     "name": "stdout",
     "output_type": "stream",
     "text": [
      "shape x =  torch.Size([800])\n",
      "shape y =  torch.Size([800])\n"
     ]
    }
   ],
   "source": [
    "import torch\n",
    "\n",
    "dataset_len = 800\n",
    "x_points = torch.FloatTensor(dataset_len).uniform_(1.0, 10.0)\n",
    "y_points = torch.exp(-x_points)\n",
    "\n",
    "print(\"shape x = \",x_points.shape)\n",
    "print(\"shape y = \",y_points.shape)\n"
   ]
  },
  {
   "cell_type": "markdown",
   "id": "b7a5c208",
   "metadata": {
    "papermill": {
     "duration": 0.01306,
     "end_time": "2022-02-21T17:46:03.250949",
     "exception": false,
     "start_time": "2022-02-21T17:46:03.237889",
     "status": "completed"
    },
    "tags": []
   },
   "source": [
    "# Data plot"
   ]
  },
  {
   "cell_type": "code",
   "execution_count": 2,
   "id": "ba414fb6",
   "metadata": {
    "execution": {
     "iopub.execute_input": "2022-02-21T17:46:03.287573Z",
     "iopub.status.busy": "2022-02-21T17:46:03.286853Z",
     "iopub.status.idle": "2022-02-21T17:46:03.524629Z",
     "shell.execute_reply": "2022-02-21T17:46:03.523914Z",
     "shell.execute_reply.started": "2022-02-21T17:42:54.105368Z"
    },
    "papermill": {
     "duration": 0.260421,
     "end_time": "2022-02-21T17:46:03.524826",
     "exception": false,
     "start_time": "2022-02-21T17:46:03.264405",
     "status": "completed"
    },
    "tags": []
   },
   "outputs": [
    {
     "data": {
      "image/png": "[encoded data removed]",
      "text/plain": [
       "<Figure size 432x288 with 1 Axes>"
      ]
     },
     "metadata": {
      "needs_background": "light"
     },
     "output_type": "display_data"
    }
   ],
   "source": [
    "import matplotlib.pyplot as plt\n",
    "\n",
    "plt.scatter(x_points, y_points)\n",
    "plt.show()"
   ]
  },
  {
   "cell_type": "markdown",
   "id": "3e9fe132",
   "metadata": {
    "papermill": {
     "duration": 0.014308,
     "end_time": "2022-02-21T17:46:03.553582",
     "exception": false,
     "start_time": "2022-02-21T17:46:03.539274",
     "status": "completed"
    },
    "tags": []
   },
   "source": [
    "# Data split (train and test)"
   ]
  },
  {
   "cell_type": "code",
   "execution_count": 3,
   "id": "17a62df2",
   "metadata": {
    "execution": {
     "iopub.execute_input": "2022-02-21T17:46:03.590016Z",
     "iopub.status.busy": "2022-02-21T17:46:03.589314Z",
     "iopub.status.idle": "2022-02-21T17:46:03.606622Z",
     "shell.execute_reply": "2022-02-21T17:46:03.605945Z",
     "shell.execute_reply.started": "2022-02-21T17:42:57.323538Z"
    },
    "papermill": {
     "duration": 0.038923,
     "end_time": "2022-02-21T17:46:03.606762",
     "exception": false,
     "start_time": "2022-02-21T17:46:03.567839",
     "status": "completed"
    },
    "tags": []
   },
   "outputs": [
    {
     "name": "stdout",
     "output_type": "stream",
     "text": [
      "dataset shape =  torch.Size([800, 2])\n",
      "train dataset shape =  600\n",
      "validation dataset shape =  200\n"
     ]
    }
   ],
   "source": [
    "dataset = torch.stack((x_points, y_points), -1)\n",
    "\n",
    "print(\"dataset shape = \",dataset.shape)\n",
    "\n",
    "train_data,validate_data = torch.utils.data.random_split(dataset, [int(dataset_len*0.75),int(dataset_len*0.25)])\n",
    "\n",
    "print(\"train dataset shape = \",len(train_data))\n",
    "\n",
    "print(\"validation dataset shape = \",len(validate_data))\n"
   ]
  },
  {
   "cell_type": "markdown",
   "id": "db677726",
   "metadata": {
    "papermill": {
     "duration": 0.013984,
     "end_time": "2022-02-21T17:46:03.635368",
     "exception": false,
     "start_time": "2022-02-21T17:46:03.621384",
     "status": "completed"
    },
    "tags": []
   },
   "source": [
    "# Model"
   ]
  },
  {
   "cell_type": "code",
   "execution_count": 4,
   "id": "ae16740d",
   "metadata": {
    "execution": {
     "iopub.execute_input": "2022-02-21T17:46:03.672232Z",
     "iopub.status.busy": "2022-02-21T17:46:03.671607Z",
     "iopub.status.idle": "2022-02-21T17:46:03.674601Z",
     "shell.execute_reply": "2022-02-21T17:46:03.674070Z",
     "shell.execute_reply.started": "2022-02-21T17:43:00.483295Z"
    },
    "papermill": {
     "duration": 0.025002,
     "end_time": "2022-02-21T17:46:03.674742",
     "exception": false,
     "start_time": "2022-02-21T17:46:03.649740",
     "status": "completed"
    },
    "tags": []
   },
   "outputs": [],
   "source": [
    "learning_rate = 0.001\n",
    "\n",
    "class LinearRegressionModel(torch.nn.Module):\n",
    "    def __init__(self,neuron):\n",
    "        super(LinearRegressionModel, self).__init__()\n",
    "        self.linear1 = torch.nn.Linear(1, neuron)  # One in and one out\n",
    "        self.sig = torch.nn.Sigmoid()\n",
    "        self.linear2 = torch.nn.Linear(neuron, 1)  # One in and one out\n",
    " \n",
    "    def forward(self, x):\n",
    "        x = self.linear1(x)\n",
    "        x= self.sig(x)\n",
    "        x = self.linear2(x)\n",
    "        return x"
   ]
  },
  {
   "cell_type": "markdown",
   "id": "83e1c74b",
   "metadata": {
    "papermill": {
     "duration": 0.013943,
     "end_time": "2022-02-21T17:46:03.703114",
     "exception": false,
     "start_time": "2022-02-21T17:46:03.689171",
     "status": "completed"
    },
    "tags": []
   },
   "source": [
    "# Accuracy check function"
   ]
  },
  {
   "cell_type": "code",
   "execution_count": 5,
   "id": "da61d5e5",
   "metadata": {
    "execution": {
     "iopub.execute_input": "2022-02-21T17:46:03.739527Z",
     "iopub.status.busy": "2022-02-21T17:46:03.738877Z",
     "iopub.status.idle": "2022-02-21T17:46:04.726061Z",
     "shell.execute_reply": "2022-02-21T17:46:04.725386Z",
     "shell.execute_reply.started": "2022-02-21T17:43:03.585869Z"
    },
    "papermill": {
     "duration": 1.008572,
     "end_time": "2022-02-21T17:46:04.726197",
     "exception": false,
     "start_time": "2022-02-21T17:46:03.717625",
     "status": "completed"
    },
    "tags": []
   },
   "outputs": [],
   "source": [
    "from sklearn.metrics import r2_score\n",
    "\n",
    "def check_accuracy(loader, model):\n",
    "\n",
    "    y_predict = []\n",
    "    y_orig = []\n",
    "    model.eval()\n",
    "    with torch.no_grad():\n",
    "\n",
    "        for x, y in loader:\n",
    "            x=x.unsqueeze(dim=0)\n",
    "            y=y.unsqueeze(dim=0)\n",
    "            scores = model(x)\n",
    "            y_predict.append(scores.detach().numpy())\n",
    "            y_orig.append(y.detach().numpy())\n",
    "\n",
    "    model.train()\n",
    "    \n",
    "    return r2_score(y_orig, y_predict)\n"
   ]
  },
  {
   "cell_type": "markdown",
   "id": "3de798ef",
   "metadata": {
    "papermill": {
     "duration": 0.014117,
     "end_time": "2022-02-21T17:46:04.754899",
     "exception": false,
     "start_time": "2022-02-21T17:46:04.740782",
     "status": "completed"
    },
    "tags": []
   },
   "source": [
    "# Model train"
   ]
  },
  {
   "cell_type": "code",
   "execution_count": 6,
   "id": "4ab9190e",
   "metadata": {
    "execution": {
     "iopub.execute_input": "2022-02-21T17:46:04.795514Z",
     "iopub.status.busy": "2022-02-21T17:46:04.794781Z",
     "iopub.status.idle": "2022-02-21T17:48:03.669843Z",
     "shell.execute_reply": "2022-02-21T17:48:03.669318Z",
     "shell.execute_reply.started": "2022-02-21T17:43:17.559915Z"
    },
    "papermill": {
     "duration": 118.900586,
     "end_time": "2022-02-21T17:48:03.669986",
     "exception": false,
     "start_time": "2022-02-21T17:46:04.769400",
     "status": "completed"
    },
    "tags": []
   },
   "outputs": [
    {
     "name": "stderr",
     "output_type": "stream",
     "text": [
      "                                               \r"
     ]
    }
   ],
   "source": [
    "from tqdm import tqdm\n",
    "\n",
    "num_epoch = 30\n",
    "\n",
    "acuuracy_neuron_no = []\n",
    "train_acuuracy_score = []\n",
    "test_acuuracy_score = []\n",
    "\n",
    "loop = tqdm(range(20), total=20, leave=False)\n",
    "\n",
    "for neurons in loop:\n",
    "    model = LinearRegressionModel((neurons+1)*2)\n",
    "\n",
    "    criterion = torch.nn.MSELoss()\n",
    "    optimizer = torch.optim.SGD(model.parameters(), lr = learning_rate)\n",
    "\n",
    "    for epoch in range(num_epoch):\n",
    "\n",
    "        for batch_idx, (data, targets) in enumerate(train_data):\n",
    "        # forward\n",
    "            data = data.unsqueeze(dim=0)\n",
    "            targets = targets.unsqueeze(dim=0)\n",
    "            \n",
    "            scores = model(data)\n",
    "            loss = criterion(scores, targets)\n",
    "\n",
    "            optimizer.zero_grad()\n",
    "            loss.backward()\n",
    "\n",
    "            optimizer.step()\n",
    "#             loop.set_description(f\"neurons [{(neurons+1)*2}/{40}] Epoch [{epoch + 1}/{num_epoch}]\")\n",
    "#             loop.set_postfix(loss=loss.item())\n",
    "      \n",
    "    train_accuracy = check_accuracy(train_data, model)\n",
    "    test_accuracy = check_accuracy(validate_data, model)\n",
    "    \n",
    "    acuuracy_neuron_no.append((neurons+1)*2)\n",
    "    train_acuuracy_score.append(train_accuracy)\n",
    "    test_acuuracy_score.append(test_accuracy)\n",
    "    "
   ]
  },
  {
   "cell_type": "code",
   "execution_count": 7,
   "id": "02cc6317",
   "metadata": {
    "execution": {
     "iopub.execute_input": "2022-02-21T17:48:03.721504Z",
     "iopub.status.busy": "2022-02-21T17:48:03.718100Z",
     "iopub.status.idle": "2022-02-21T17:48:03.955771Z",
     "shell.execute_reply": "2022-02-21T17:48:03.956340Z",
     "shell.execute_reply.started": "2022-02-21T17:43:22.271701Z"
    },
    "papermill": {
     "duration": 0.26403,
     "end_time": "2022-02-21T17:48:03.956532",
     "exception": false,
     "start_time": "2022-02-21T17:48:03.692502",
     "status": "completed"
    },
    "tags": []
   },
   "outputs": [
    {
     "data": {
      "image/png": "[encoded data removed]",
      "text/plain": [
       "<Figure size 1080x576 with 1 Axes>"
      ]
     },
     "metadata": {
      "needs_background": "light"
     },
     "output_type": "display_data"
    }
   ],
   "source": [
    "import matplotlib.pyplot as plt\n",
    "\n",
    "plt.figure(figsize=(15,8))\n",
    " \n",
    "plt.plot(acuuracy_neuron_no, train_acuuracy_score, label = \"training accuracy\")\n",
    " \n",
    "plt.plot(acuuracy_neuron_no, test_acuuracy_score, label = \"testing accuracy\")\n",
    " \n",
    "plt.xlabel('number of neurons')\n",
    "\n",
    "plt.ylabel('accuracy score')\n",
    "\n",
    " \n",
    "# show a legend on the plot\n",
    "plt.legend()\n",
    " \n",
    "# function to show the plot\n",
    "plt.show()"
   ]
  },
  {
   "cell_type": "code",
   "execution_count": null,
   "id": "dbb5be8b",
   "metadata": {
    "papermill": {
     "duration": 0.025224,
     "end_time": "2022-02-21T17:48:04.007987",
     "exception": false,
     "start_time": "2022-02-21T17:48:03.982763",
     "status": "completed"
    },
    "tags": []
   },
   "outputs": [],
   "source": []
  }
 ],
 "metadata": {
  "kernelspec": {
   "display_name": "Python 3",
   "language": "python",
   "name": "python3"
  },
  "language_info": {
   "codemirror_mode": {
    "name": "ipython",
    "version": 3
   },
   "file_extension": ".py",
   "mimetype": "text/x-python",
   "name": "python",
   "nbconvert_exporter": "python",
   "pygments_lexer": "ipython3",
   "version": "3.7.12"
  },
  "papermill": {
   "default_parameters": {},
   "duration": 132.893647,
   "end_time": "2022-02-21T17:48:04.846183",
   "environment_variables": {},
   "exception": null,
   "input_path": "__notebook__.ipynb",
   "output_path": "__notebook__.ipynb",
   "parameters": {},
   "start_time": "2022-02-21T17:45:51.952536",
   "version": "2.3.3"
  }
 },
 "nbformat": 4,
 "nbformat_minor": 5
}
