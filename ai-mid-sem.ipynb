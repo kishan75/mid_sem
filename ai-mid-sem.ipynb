{
 "cells": [
  {
   "cell_type": "markdown",
   "id": "37285f78",
   "metadata": {
    "papermill": {
     "duration": 0.011448,
     "end_time": "2022-02-21T17:44:18.536106",
     "exception": false,
     "start_time": "2022-02-21T17:44:18.524658",
     "status": "completed"
    },
    "tags": []
   },
   "source": [
    "# Data generation"
   ]
  },
  {
   "cell_type": "code",
   "execution_count": 1,
   "id": "d4fa4f31",
   "metadata": {
    "_cell_guid": "b1076dfc-b9ad-4769-8c92-a6c4dae69d19",
    "_uuid": "8f2839f25d086af736a60e9eeb907d3b93b6e0e5",
    "execution": {
     "iopub.execute_input": "2022-02-21T17:44:18.561281Z",
     "iopub.status.busy": "2022-02-21T17:44:18.560110Z",
     "iopub.status.idle": "2022-02-21T17:44:19.542179Z",
     "shell.execute_reply": "2022-02-21T17:44:19.541266Z",
     "shell.execute_reply.started": "2022-02-21T17:42:50.212153Z"
    },
    "papermill": {
     "duration": 0.994953,
     "end_time": "2022-02-21T17:44:19.542351",
     "exception": false,
     "start_time": "2022-02-21T17:44:18.547398",
     "status": "completed"
    },
    "tags": []
   },
   "outputs": [
    {
     "name": "stdout",
     "output_type": "stream",
     "text": [
      "shape x =  torch.Size([400])\n",
      "shape y =  torch.Size([400])\n"
     ]
    }
   ],
   "source": [
    "import torch\n",
    "\n",
    "dataset_len = 400\n",
    "x_points = torch.FloatTensor(dataset_len).uniform_(1.0, 10.0)\n",
    "y_points = torch.exp(-x_points)\n",
    "\n",
    "print(\"shape x = \",x_points.shape)\n",
    "print(\"shape y = \",y_points.shape)\n"
   ]
  },
  {
   "cell_type": "markdown",
   "id": "6dd99a76",
   "metadata": {
    "papermill": {
     "duration": 0.01549,
     "end_time": "2022-02-21T17:44:19.574650",
     "exception": false,
     "start_time": "2022-02-21T17:44:19.559160",
     "status": "completed"
    },
    "tags": []
   },
   "source": [
    "# Data plot"
   ]
  },
  {
   "cell_type": "code",
   "execution_count": 2,
   "id": "4a6b6824",
   "metadata": {
    "execution": {
     "iopub.execute_input": "2022-02-21T17:44:19.615369Z",
     "iopub.status.busy": "2022-02-21T17:44:19.614432Z",
     "iopub.status.idle": "2022-02-21T17:44:19.800478Z",
     "shell.execute_reply": "2022-02-21T17:44:19.801110Z",
     "shell.execute_reply.started": "2022-02-21T17:42:54.105368Z"
    },
    "papermill": {
     "duration": 0.208586,
     "end_time": "2022-02-21T17:44:19.801272",
     "exception": false,
     "start_time": "2022-02-21T17:44:19.592686",
     "status": "completed"
    },
    "tags": []
   },
   "outputs": [
    {
     "data": {
      "image/png": "[encoded data removed]",
      "text/plain": [
       "<Figure size 432x288 with 1 Axes>"
      ]
     },
     "metadata": {
      "needs_background": "light"
     },
     "output_type": "display_data"
    }
   ],
   "source": [
    "import matplotlib.pyplot as plt\n",
    "\n",
    "plt.scatter(x_points, y_points)\n",
    "plt.show()"
   ]
  },
  {
   "cell_type": "markdown",
   "id": "2ac66cee",
   "metadata": {
    "papermill": {
     "duration": 0.016291,
     "end_time": "2022-02-21T17:44:19.832441",
     "exception": false,
     "start_time": "2022-02-21T17:44:19.816150",
     "status": "completed"
    },
    "tags": []
   },
   "source": [
    "# Data split (train and test)"
   ]
  },
  {
   "cell_type": "code",
   "execution_count": 3,
   "id": "25a66962",
   "metadata": {
    "execution": {
     "iopub.execute_input": "2022-02-21T17:44:19.871039Z",
     "iopub.status.busy": "2022-02-21T17:44:19.870328Z",
     "iopub.status.idle": "2022-02-21T17:44:19.887591Z",
     "shell.execute_reply": "2022-02-21T17:44:19.888079Z",
     "shell.execute_reply.started": "2022-02-21T17:42:57.323538Z"
    },
    "papermill": {
     "duration": 0.036868,
     "end_time": "2022-02-21T17:44:19.888244",
     "exception": false,
     "start_time": "2022-02-21T17:44:19.851376",
     "status": "completed"
    },
    "tags": []
   },
   "outputs": [
    {
     "name": "stdout",
     "output_type": "stream",
     "text": [
      "dataset shape =  torch.Size([400, 2])\n",
      "train dataset shape =  300\n",
      "validation dataset shape =  100\n"
     ]
    }
   ],
   "source": [
    "dataset = torch.stack((x_points, y_points), -1)\n",
    "\n",
    "print(\"dataset shape = \",dataset.shape)\n",
    "\n",
    "train_data,validate_data = torch.utils.data.random_split(dataset, [int(dataset_len*0.75),int(dataset_len*0.25)])\n",
    "\n",
    "print(\"train dataset shape = \",len(train_data))\n",
    "\n",
    "print(\"validation dataset shape = \",len(validate_data))\n"
   ]
  },
  {
   "cell_type": "markdown",
   "id": "0c9f839f",
   "metadata": {
    "papermill": {
     "duration": 0.011524,
     "end_time": "2022-02-21T17:44:19.912139",
     "exception": false,
     "start_time": "2022-02-21T17:44:19.900615",
     "status": "completed"
    },
    "tags": []
   },
   "source": [
    "# Model"
   ]
  },
  {
   "cell_type": "code",
   "execution_count": 4,
   "id": "a261caef",
   "metadata": {
    "execution": {
     "iopub.execute_input": "2022-02-21T17:44:19.936362Z",
     "iopub.status.busy": "2022-02-21T17:44:19.935850Z",
     "iopub.status.idle": "2022-02-21T17:44:19.940395Z",
     "shell.execute_reply": "2022-02-21T17:44:19.940758Z",
     "shell.execute_reply.started": "2022-02-21T17:43:00.483295Z"
    },
    "papermill": {
     "duration": 0.017682,
     "end_time": "2022-02-21T17:44:19.940911",
     "exception": false,
     "start_time": "2022-02-21T17:44:19.923229",
     "status": "completed"
    },
    "tags": []
   },
   "outputs": [],
   "source": [
    "learning_rate = 0.001\n",
    "\n",
    "class LinearRegressionModel(torch.nn.Module):\n",
    "    def __init__(self,neuron):\n",
    "        super(LinearRegressionModel, self).__init__()\n",
    "        self.linear1 = torch.nn.Linear(1, neuron)  # One in and one out\n",
    "        self.sig = torch.nn.Sigmoid()\n",
    "        self.linear2 = torch.nn.Linear(neuron, 1)  # One in and one out\n",
    " \n",
    "    def forward(self, x):\n",
    "        x = self.linear1(x)\n",
    "        x= self.sig(x)\n",
    "        x = self.linear2(x)\n",
    "        return x"
   ]
  },
  {
   "cell_type": "markdown",
   "id": "e89f706e",
   "metadata": {
    "papermill": {
     "duration": 0.011111,
     "end_time": "2022-02-21T17:44:19.963654",
     "exception": false,
     "start_time": "2022-02-21T17:44:19.952543",
     "status": "completed"
    },
    "tags": []
   },
   "source": [
    "# Accuracy check function"
   ]
  },
  {
   "cell_type": "code",
   "execution_count": 5,
   "id": "906fd36d",
   "metadata": {
    "execution": {
     "iopub.execute_input": "2022-02-21T17:44:19.992423Z",
     "iopub.status.busy": "2022-02-21T17:44:19.991872Z",
     "iopub.status.idle": "2022-02-21T17:44:20.712635Z",
     "shell.execute_reply": "2022-02-21T17:44:20.712238Z",
     "shell.execute_reply.started": "2022-02-21T17:43:03.585869Z"
    },
    "papermill": {
     "duration": 0.737515,
     "end_time": "2022-02-21T17:44:20.712756",
     "exception": false,
     "start_time": "2022-02-21T17:44:19.975241",
     "status": "completed"
    },
    "tags": []
   },
   "outputs": [],
   "source": [
    "from sklearn.metrics import r2_score\n",
    "\n",
    "def check_accuracy(loader, model):\n",
    "\n",
    "    y_predict = []\n",
    "    y_orig = []\n",
    "    model.eval()\n",
    "    with torch.no_grad():\n",
    "\n",
    "        for x, y in loader:\n",
    "            x=x.unsqueeze(dim=0)\n",
    "            y=y.unsqueeze(dim=0)\n",
    "            scores = model(x)\n",
    "            y_predict.append(scores.detach().numpy())\n",
    "            y_orig.append(y.detach().numpy())\n",
    "\n",
    "    model.train()\n",
    "    \n",
    "    return r2_score(y_orig, y_predict)\n"
   ]
  },
  {
   "cell_type": "markdown",
   "id": "c105fe7e",
   "metadata": {
    "papermill": {
     "duration": 0.010843,
     "end_time": "2022-02-21T17:44:20.735494",
     "exception": false,
     "start_time": "2022-02-21T17:44:20.724651",
     "status": "completed"
    },
    "tags": []
   },
   "source": [
    "# Model train"
   ]
  },
  {
   "cell_type": "code",
   "execution_count": 6,
   "id": "c5a44975",
   "metadata": {
    "execution": {
     "iopub.execute_input": "2022-02-21T17:44:20.768231Z",
     "iopub.status.busy": "2022-02-21T17:44:20.760450Z",
     "iopub.status.idle": "2022-02-21T17:44:57.369420Z",
     "shell.execute_reply": "2022-02-21T17:44:57.368878Z",
     "shell.execute_reply.started": "2022-02-21T17:43:17.559915Z"
    },
    "papermill": {
     "duration": 36.622833,
     "end_time": "2022-02-21T17:44:57.369545",
     "exception": false,
     "start_time": "2022-02-21T17:44:20.746712",
     "status": "completed"
    },
    "tags": []
   },
   "outputs": [
    {
     "name": "stderr",
     "output_type": "stream",
     "text": [
      "                                               \r"
     ]
    }
   ],
   "source": [
    "from tqdm import tqdm\n",
    "\n",
    "num_epoch = 20\n",
    "\n",
    "acuuracy_neuron_no = []\n",
    "train_acuuracy_score = []\n",
    "test_acuuracy_score = []\n",
    "\n",
    "loop = tqdm(range(20), total=20, leave=False)\n",
    "\n",
    "for neurons in loop:\n",
    "    model = LinearRegressionModel((neurons+1)*2)\n",
    "\n",
    "    criterion = torch.nn.MSELoss()\n",
    "    optimizer = torch.optim.SGD(model.parameters(), lr = learning_rate)\n",
    "\n",
    "    for epoch in range(num_epoch):\n",
    "\n",
    "        for batch_idx, (data, targets) in enumerate(train_data):\n",
    "        # forward\n",
    "            data = data.unsqueeze(dim=0)\n",
    "            targets = targets.unsqueeze(dim=0)\n",
    "            \n",
    "            scores = model(data)\n",
    "            loss = criterion(scores, targets)\n",
    "\n",
    "            optimizer.zero_grad()\n",
    "            loss.backward()\n",
    "\n",
    "            optimizer.step()\n",
    "#             loop.set_description(f\"neurons [{(neurons+1)*2}/{40}] Epoch [{epoch + 1}/{num_epoch}]\")\n",
    "#             loop.set_postfix(loss=loss.item())\n",
    "      \n",
    "    train_accuracy = check_accuracy(train_data, model)\n",
    "    test_accuracy = check_accuracy(validate_data, model)\n",
    "    \n",
    "    acuuracy_neuron_no.append((neurons+1)*2)\n",
    "    train_acuuracy_score.append(train_accuracy)\n",
    "    test_acuuracy_score.append(test_accuracy)\n",
    "    "
   ]
  },
  {
   "cell_type": "code",
   "execution_count": 7,
   "id": "e7b67bcc",
   "metadata": {
    "execution": {
     "iopub.execute_input": "2022-02-21T17:44:57.426384Z",
     "iopub.status.busy": "2022-02-21T17:44:57.425785Z",
     "iopub.status.idle": "2022-02-21T17:44:57.617866Z",
     "shell.execute_reply": "2022-02-21T17:44:57.618451Z",
     "shell.execute_reply.started": "2022-02-21T17:43:22.271701Z"
    },
    "papermill": {
     "duration": 0.221935,
     "end_time": "2022-02-21T17:44:57.618589",
     "exception": false,
     "start_time": "2022-02-21T17:44:57.396654",
     "status": "completed"
    },
    "tags": []
   },
   "outputs": [
    {
     "data": {
      "image/png": "[encoded data removed]",
      "text/plain": [
       "<Figure size 1080x576 with 1 Axes>"
      ]
     },
     "metadata": {
      "needs_background": "light"
     },
     "output_type": "display_data"
    }
   ],
   "source": [
    "import matplotlib.pyplot as plt\n",
    "\n",
    "plt.figure(figsize=(15,8))\n",
    " \n",
    "plt.plot(acuuracy_neuron_no, train_acuuracy_score, label = \"training accuracy\")\n",
    " \n",
    "plt.plot(acuuracy_neuron_no, test_acuuracy_score, label = \"testing accuracy\")\n",
    " \n",
    "plt.xlabel('number of neurons')\n",
    "\n",
    "plt.ylabel('accuracy score')\n",
    "\n",
    " \n",
    "# show a legend on the plot\n",
    "plt.legend()\n",
    " \n",
    "# function to show the plot\n",
    "plt.show()"
   ]
  },
  {
   "cell_type": "code",
   "execution_count": null,
   "id": "2f649ddd",
   "metadata": {
    "papermill": {
     "duration": 0.020523,
     "end_time": "2022-02-21T17:44:57.659386",
     "exception": false,
     "start_time": "2022-02-21T17:44:57.638863",
     "status": "completed"
    },
    "tags": []
   },
   "outputs": [],
   "source": []
  }
 ],
 "metadata": {
  "kernelspec": {
   "display_name": "Python 3",
   "language": "python",
   "name": "python3"
  },
  "language_info": {
   "codemirror_mode": {
    "name": "ipython",
    "version": 3
   },
   "file_extension": ".py",
   "mimetype": "text/x-python",
   "name": "python",
   "nbconvert_exporter": "python",
   "pygments_lexer": "ipython3",
   "version": "3.7.12"
  },
  "papermill": {
   "default_parameters": {},
   "duration": 46.965467,
   "end_time": "2022-02-21T17:44:58.488133",
   "environment_variables": {},
   "exception": null,
   "input_path": "__notebook__.ipynb",
   "output_path": "__notebook__.ipynb",
   "parameters": {},
   "start_time": "2022-02-21T17:44:11.522666",
   "version": "2.3.3"
  }
 },
 "nbformat": 4,
 "nbformat_minor": 5
}
